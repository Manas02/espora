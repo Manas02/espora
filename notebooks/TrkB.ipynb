{
 "cells": [
  {
   "cell_type": "code",
   "execution_count": 1,
   "id": "8600a3a0",
   "metadata": {},
   "outputs": [],
   "source": [
    "import os\n",
    "os.chdir('..')"
   ]
  },
  {
   "cell_type": "code",
   "execution_count": 2,
   "id": "3589e376",
   "metadata": {},
   "outputs": [],
   "source": [
    "from itertools import chain"
   ]
  },
  {
   "cell_type": "code",
   "execution_count": 3,
   "id": "65328427",
   "metadata": {},
   "outputs": [
    {
     "name": "stderr",
     "output_type": "stream",
     "text": [
      "/var/folders/nj/v2qpgqmx5v95v_p1dzfj62yr0000gn/T/ipykernel_7097/435423448.py:3: TqdmExperimentalWarning: Using `tqdm.autonotebook.tqdm` in notebook mode. Use `tqdm.tqdm` instead to force console mode (e.g. in jupyter console)\n",
      "  from tqdm.autonotebook import tqdm\n"
     ]
    }
   ],
   "source": [
    "import numpy as np\n",
    "import pandas as pd\n",
    "from tqdm.autonotebook import tqdm\n",
    "import networkx as nx\n",
    "from rdkit import Chem\n",
    "from rdkit.Chem import AllChem, Descriptors\n",
    "from sklearn.metrics import classification_report\n",
    "from sklearn.model_selection import StratifiedShuffleSplit\n",
    "from sklearn.ensemble import RandomForestClassifier"
   ]
  },
  {
   "cell_type": "code",
   "execution_count": 4,
   "id": "6e4c7b23",
   "metadata": {},
   "outputs": [],
   "source": [
    "from espora import fragmenter"
   ]
  },
  {
   "cell_type": "code",
   "execution_count": 5,
   "id": "ab6b2430",
   "metadata": {},
   "outputs": [],
   "source": [
    "def get_mw(smi):\n",
    "    mol = Chem.MolFromSmiles(smi)\n",
    "    return Descriptors.MolWt(mol)"
   ]
  },
  {
   "cell_type": "code",
   "execution_count": 6,
   "id": "651dbe5f",
   "metadata": {},
   "outputs": [],
   "source": [
    "def run_fragrank_frag(smis, threhsold_mw=250):\n",
    "    fragments = [fragmenter.frag_rec(smi) for smi in tqdm(smis, desc=\"Fragmenting\")]\n",
    "    fragments = [list(filter(lambda x: get_mw(x) < threhsold_mw, fragment)) for fragment in fragments]\n",
    "    \n",
    "    unique_subs = set()\n",
    "    for subs in chain.from_iterable(fragments):\n",
    "        unique_subs.add(subs)\n",
    "\n",
    "    G = nx.Graph()\n",
    "    for sub in unique_subs:\n",
    "        G.add_node(sub)\n",
    "\n",
    "    for i in range(len(smis)):\n",
    "        for j in range(len(fragments[i])):\n",
    "            for k in range(j+1, len(fragments[i])):\n",
    "                sub1 = fragments[i][j]\n",
    "                sub2 = fragments[i][k]\n",
    "                if G.has_edge(sub1, sub2):\n",
    "                    G[sub1][sub2]['weight'] += 1\n",
    "                else:\n",
    "                    G.add_edge(sub1, sub2, weight=1)\n",
    "\n",
    "    pr = nx.pagerank(G)\n",
    "    return pr"
   ]
  },
  {
   "cell_type": "code",
   "execution_count": 7,
   "id": "4ee04735",
   "metadata": {},
   "outputs": [],
   "source": [
    "def featurize(smis, top_fragments_mols):\n",
    "    X_vec = []\n",
    "    for smi in tqdm(smis, desc=\"Featurizing\"):\n",
    "        mol = Chem.MolFromSmiles(smi)\n",
    "        X_vec.append(np.array([mol.HasSubstructMatch(i) for i in top_fragments_mols]).astype(int))\n",
    "    return np.array(X_vec) "
   ]
  },
  {
   "cell_type": "code",
   "execution_count": 8,
   "id": "bfc82d52",
   "metadata": {},
   "outputs": [],
   "source": [
    "def model(clf, X_train, X_test, y_train, y_test, top_fragments_mols):\n",
    "    X_train = featurize(X_train, top_fragments_mols)\n",
    "    X_test = featurize(X_test, top_fragments_mols)\n",
    "    clf.fit(X_train, y_train)\n",
    "    y_pred = clf.predict(X_test)\n",
    "    print(classification_report(y_test, y_pred))"
   ]
  },
  {
   "cell_type": "code",
   "execution_count": 17,
   "id": "5a5e55a5",
   "metadata": {},
   "outputs": [],
   "source": [
    "df = pd.read_csv(\"./data/Q16602.csv\")"
   ]
  },
  {
   "cell_type": "code",
   "execution_count": 18,
   "id": "6d4d927f",
   "metadata": {},
   "outputs": [],
   "source": [
    "X = df.canonical_smiles.values\n",
    "y = df[\"100 uM\"].values"
   ]
  },
  {
   "cell_type": "code",
   "execution_count": 19,
   "id": "c359a869",
   "metadata": {},
   "outputs": [],
   "source": [
    "sss = StratifiedShuffleSplit(n_splits=3, test_size=0.33, random_state=42)"
   ]
  },
  {
   "cell_type": "code",
   "execution_count": 20,
   "id": "be19d2d1",
   "metadata": {},
   "outputs": [
    {
     "data": {
      "text/plain": [
       "3"
      ]
     },
     "execution_count": 20,
     "metadata": {},
     "output_type": "execute_result"
    }
   ],
   "source": [
    "sss.get_n_splits(X, y)"
   ]
  },
  {
   "cell_type": "code",
   "execution_count": 21,
   "id": "a497bde9",
   "metadata": {
    "scrolled": false
   },
   "outputs": [
    {
     "name": "stdout",
     "output_type": "stream",
     "text": [
      "Fold 1/3:\n"
     ]
    },
    {
     "data": {
      "application/vnd.jupyter.widget-view+json": {
       "model_id": "99d3207d754c4f4f85034b119a1db17d",
       "version_major": 2,
       "version_minor": 0
      },
      "text/plain": [
       "Fragmenting::   0%|          | 0/67 [00:00<?, ?it/s]"
      ]
     },
     "metadata": {},
     "output_type": "display_data"
    },
    {
     "data": {
      "application/vnd.jupyter.widget-view+json": {
       "model_id": "e377390ff3a84e8fac5605588630ef4a",
       "version_major": 2,
       "version_minor": 0
      },
      "text/plain": [
       "featurizing:   0%|          | 0/67 [00:00<?, ?it/s]"
      ]
     },
     "metadata": {},
     "output_type": "display_data"
    },
    {
     "data": {
      "application/vnd.jupyter.widget-view+json": {
       "model_id": "b9183af6d3ca43679de47c017d3e9f93",
       "version_major": 2,
       "version_minor": 0
      },
      "text/plain": [
       "featurizing:   0%|          | 0/33 [00:00<?, ?it/s]"
      ]
     },
     "metadata": {},
     "output_type": "display_data"
    },
    {
     "name": "stdout",
     "output_type": "stream",
     "text": [
      "              precision    recall  f1-score   support\n",
      "\n",
      "         0.0       0.89      1.00      0.94        24\n",
      "         1.0       1.00      0.67      0.80         9\n",
      "\n",
      "    accuracy                           0.91        33\n",
      "   macro avg       0.94      0.83      0.87        33\n",
      "weighted avg       0.92      0.91      0.90        33\n",
      "\n",
      "Fold 2/3:\n"
     ]
    },
    {
     "data": {
      "application/vnd.jupyter.widget-view+json": {
       "model_id": "4dbe634b1c0d46528396caea3d747421",
       "version_major": 2,
       "version_minor": 0
      },
      "text/plain": [
       "Fragmenting::   0%|          | 0/67 [00:00<?, ?it/s]"
      ]
     },
     "metadata": {},
     "output_type": "display_data"
    },
    {
     "data": {
      "application/vnd.jupyter.widget-view+json": {
       "model_id": "016e068a2f0243b39ce30eabfc12b5c5",
       "version_major": 2,
       "version_minor": 0
      },
      "text/plain": [
       "featurizing:   0%|          | 0/67 [00:00<?, ?it/s]"
      ]
     },
     "metadata": {},
     "output_type": "display_data"
    },
    {
     "data": {
      "application/vnd.jupyter.widget-view+json": {
       "model_id": "b63ffa599b8b4ac19a7e73de3bd4dd62",
       "version_major": 2,
       "version_minor": 0
      },
      "text/plain": [
       "featurizing:   0%|          | 0/33 [00:00<?, ?it/s]"
      ]
     },
     "metadata": {},
     "output_type": "display_data"
    },
    {
     "name": "stdout",
     "output_type": "stream",
     "text": [
      "              precision    recall  f1-score   support\n",
      "\n",
      "         0.0       0.96      1.00      0.98        24\n",
      "         1.0       1.00      0.89      0.94         9\n",
      "\n",
      "    accuracy                           0.97        33\n",
      "   macro avg       0.98      0.94      0.96        33\n",
      "weighted avg       0.97      0.97      0.97        33\n",
      "\n",
      "Fold 3/3:\n"
     ]
    },
    {
     "data": {
      "application/vnd.jupyter.widget-view+json": {
       "model_id": "806ab67ba78548b78999a8370badce4d",
       "version_major": 2,
       "version_minor": 0
      },
      "text/plain": [
       "Fragmenting::   0%|          | 0/67 [00:00<?, ?it/s]"
      ]
     },
     "metadata": {},
     "output_type": "display_data"
    },
    {
     "data": {
      "application/vnd.jupyter.widget-view+json": {
       "model_id": "9e0b4978b754434ba7b07e91c4023f4b",
       "version_major": 2,
       "version_minor": 0
      },
      "text/plain": [
       "featurizing:   0%|          | 0/67 [00:00<?, ?it/s]"
      ]
     },
     "metadata": {},
     "output_type": "display_data"
    },
    {
     "data": {
      "application/vnd.jupyter.widget-view+json": {
       "model_id": "ec91476fee5449119f6a24a93f2210f3",
       "version_major": 2,
       "version_minor": 0
      },
      "text/plain": [
       "featurizing:   0%|          | 0/33 [00:00<?, ?it/s]"
      ]
     },
     "metadata": {},
     "output_type": "display_data"
    },
    {
     "name": "stdout",
     "output_type": "stream",
     "text": [
      "              precision    recall  f1-score   support\n",
      "\n",
      "         0.0       0.89      1.00      0.94        24\n",
      "         1.0       1.00      0.67      0.80         9\n",
      "\n",
      "    accuracy                           0.91        33\n",
      "   macro avg       0.94      0.83      0.87        33\n",
      "weighted avg       0.92      0.91      0.90        33\n",
      "\n"
     ]
    }
   ],
   "source": [
    "for i, (train_index, test_index) in enumerate(sss.split(X, y)):\n",
    "    print(f\"Fold {i+1}/{sss.get_n_splits(X, y)}:\")\n",
    "    clf = RandomForestClassifier()\n",
    "    pr = run_fragrank_frag(X[train_index])\n",
    "    top_fragments = sorted(pr, key=pr.get, reverse=True)[:500]\n",
    "    top_fragments_mols = [Chem.MolFromSmarts(i) for i in top_fragments]\n",
    "    model(clf, X[train_index], X[test_index], y[train_index], y[test_index], top_fragments_mols)"
   ]
  }
 ],
 "metadata": {
  "kernelspec": {
   "display_name": "Python 3 (ipykernel)",
   "language": "python",
   "name": "python3"
  },
  "language_info": {
   "codemirror_mode": {
    "name": "ipython",
    "version": 3
   },
   "file_extension": ".py",
   "mimetype": "text/x-python",
   "name": "python",
   "nbconvert_exporter": "python",
   "pygments_lexer": "ipython3",
   "version": "3.9.15"
  }
 },
 "nbformat": 4,
 "nbformat_minor": 5
}
