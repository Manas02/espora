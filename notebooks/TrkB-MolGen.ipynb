{
 "cells": [
  {
   "cell_type": "code",
   "execution_count": 1,
   "id": "7d491888",
   "metadata": {},
   "outputs": [],
   "source": [
    "import re\n",
    "import itertools"
   ]
  },
  {
   "cell_type": "code",
   "execution_count": 2,
   "id": "882151f1",
   "metadata": {},
   "outputs": [],
   "source": [
    "import os\n",
    "os.chdir('..')"
   ]
  },
  {
   "cell_type": "code",
   "execution_count": 3,
   "id": "37896ab6",
   "metadata": {},
   "outputs": [],
   "source": [
    "from itertools import chain, product"
   ]
  },
  {
   "cell_type": "code",
   "execution_count": 4,
   "id": "17b2e58a",
   "metadata": {
    "scrolled": true
   },
   "outputs": [],
   "source": [
    "import random\n",
    "import numpy as np\n",
    "import pandas as pd\n",
    "import matplotlib.pyplot as plt\n",
    "import networkx as nx\n",
    "from tqdm.notebook import tqdm, trange\n",
    "from rdkit import Chem\n",
    "from rdkit.Chem import AllChem, Descriptors\n",
    "from sklearn.metrics import classification_report\n",
    "from sklearn.model_selection import StratifiedShuffleSplit\n",
    "from sklearn.ensemble import RandomForestClassifier\n",
    "from sklearn import tree, metrics\n",
    "from xgboost import XGBClassifier"
   ]
  },
  {
   "cell_type": "code",
   "execution_count": 5,
   "id": "73d0ad54",
   "metadata": {},
   "outputs": [],
   "source": [
    "from CombineMols.CombineMols import CombineMols"
   ]
  },
  {
   "cell_type": "code",
   "execution_count": 6,
   "id": "6532246a",
   "metadata": {},
   "outputs": [],
   "source": [
    "import pygad"
   ]
  },
  {
   "cell_type": "code",
   "execution_count": 7,
   "id": "dc34629b",
   "metadata": {},
   "outputs": [],
   "source": [
    "from espora import fragmenter"
   ]
  },
  {
   "cell_type": "code",
   "execution_count": 8,
   "id": "d4402e54",
   "metadata": {},
   "outputs": [],
   "source": [
    "def get_mol(smi):\n",
    "    return Chem.MolFromSmiles(smi)"
   ]
  },
  {
   "cell_type": "code",
   "execution_count": 9,
   "id": "888aba41",
   "metadata": {},
   "outputs": [],
   "source": [
    "def get_mols(mols):\n",
    "    return [Chem.MolFromSmiles(smi) for smi in mols]"
   ]
  },
  {
   "cell_type": "code",
   "execution_count": 10,
   "id": "9bb40eff",
   "metadata": {},
   "outputs": [],
   "source": [
    "def get_smi(mol):\n",
    "    return Chem.MolToSmiles(mol)"
   ]
  },
  {
   "cell_type": "code",
   "execution_count": 11,
   "id": "9a727c44",
   "metadata": {},
   "outputs": [],
   "source": [
    "def get_smis(mols):\n",
    "    return [get_smi(i) for i in mols]"
   ]
  },
  {
   "cell_type": "code",
   "execution_count": 12,
   "id": "f12faba5",
   "metadata": {},
   "outputs": [],
   "source": [
    "def get_mw(smi):\n",
    "    mol = Chem.MolFromSmiles(smi)\n",
    "    return Descriptors.MolWt(mol)"
   ]
  },
  {
   "cell_type": "code",
   "execution_count": 13,
   "id": "00c2d551",
   "metadata": {},
   "outputs": [],
   "source": [
    "def grid(mols):\n",
    "    return Chem.Draw.MolsToGridImage(mols)"
   ]
  },
  {
   "cell_type": "code",
   "execution_count": 14,
   "id": "4b4e477a",
   "metadata": {},
   "outputs": [],
   "source": [
    "def run_fragrank_frag(smis, threhsold_mw=250):\n",
    "    fragments = [fragmenter.frag_rec(smi) for smi in tqdm(smis, desc=\"Fragmenting\")]\n",
    "    fragments = [list(filter(lambda x: get_mw(x) < threhsold_mw, fragment)) for fragment in fragments]\n",
    "    \n",
    "    unique_subs = set()\n",
    "    for subs in chain.from_iterable(fragments):\n",
    "        unique_subs.add(subs)\n",
    "\n",
    "    G = nx.Graph()\n",
    "    for sub in unique_subs:\n",
    "        G.add_node(sub)\n",
    "\n",
    "    for i in range(len(smis)):\n",
    "        for j in range(len(fragments[i])):\n",
    "            for k in range(j+1, len(fragments[i])):\n",
    "                sub1 = fragments[i][j]\n",
    "                sub2 = fragments[i][k]\n",
    "                if G.has_edge(sub1, sub2):\n",
    "                    G[sub1][sub2]['weight'] += 1\n",
    "                else:\n",
    "                    G.add_edge(sub1, sub2, weight=1)\n",
    "\n",
    "    pr = nx.pagerank(G)\n",
    "    return pr"
   ]
  },
  {
   "cell_type": "code",
   "execution_count": 15,
   "id": "a430df18",
   "metadata": {},
   "outputs": [],
   "source": [
    "df = pd.read_csv(\"./data/Q16620.csv\")\n",
    "# df = pd.read_csv(\"./data/Q16602.csv\")\n",
    "# df = pd.read_csv(\"./data/O14649.csv\")\n",
    "# df = pd.read_csv(\"./data/P04629.csv\")\n",
    "# df = pd.read_csv(\"./data/A5PKW4.csv\")"
   ]
  },
  {
   "cell_type": "code",
   "execution_count": 16,
   "id": "8c3cfb5f",
   "metadata": {},
   "outputs": [],
   "source": [
    "df[\"mw\"] = df[\"canonical_smiles\"].apply(lambda x: get_mw(x))"
   ]
  },
  {
   "cell_type": "code",
   "execution_count": 17,
   "id": "b6ecd956",
   "metadata": {},
   "outputs": [],
   "source": [
    "df = df[df[\"mw\"] < 800]"
   ]
  },
  {
   "cell_type": "code",
   "execution_count": 18,
   "id": "63f1f963",
   "metadata": {},
   "outputs": [
    {
     "data": {
      "text/html": [
       "<div>\n",
       "<style scoped>\n",
       "    .dataframe tbody tr th:only-of-type {\n",
       "        vertical-align: middle;\n",
       "    }\n",
       "\n",
       "    .dataframe tbody tr th {\n",
       "        vertical-align: top;\n",
       "    }\n",
       "\n",
       "    .dataframe thead th {\n",
       "        text-align: right;\n",
       "    }\n",
       "</style>\n",
       "<table border=\"1\" class=\"dataframe\">\n",
       "  <thead>\n",
       "    <tr style=\"text-align: right;\">\n",
       "      <th></th>\n",
       "      <th>source</th>\n",
       "      <th>id</th>\n",
       "      <th>canonical_smiles</th>\n",
       "      <th>pchembl_value</th>\n",
       "      <th>100 uM</th>\n",
       "      <th>10 uM</th>\n",
       "      <th>1 uM</th>\n",
       "      <th>0.1 uM</th>\n",
       "      <th>augmentation</th>\n",
       "      <th>mw</th>\n",
       "    </tr>\n",
       "  </thead>\n",
       "  <tbody>\n",
       "    <tr>\n",
       "      <th>0</th>\n",
       "      <td>chembl</td>\n",
       "      <td>CHEMBL101311</td>\n",
       "      <td>CN(C)CC(O)COc1ccc(Nc2nccc(Nc3cc(Cl)ccc3Cl)n2)cc1</td>\n",
       "      <td>5.50</td>\n",
       "      <td>1.0</td>\n",
       "      <td>1.0</td>\n",
       "      <td>0.0</td>\n",
       "      <td>0.0</td>\n",
       "      <td>NaN</td>\n",
       "      <td>448.354</td>\n",
       "    </tr>\n",
       "    <tr>\n",
       "      <th>1</th>\n",
       "      <td>chembl</td>\n",
       "      <td>CHEMBL103667</td>\n",
       "      <td>Cc1ccc(-n2nc(C(C)(C)C)cc2NC(=O)Nc2ccc(OCCN3CCO...</td>\n",
       "      <td>6.10</td>\n",
       "      <td>1.0</td>\n",
       "      <td>1.0</td>\n",
       "      <td>1.0</td>\n",
       "      <td>0.0</td>\n",
       "      <td>NaN</td>\n",
       "      <td>527.669</td>\n",
       "    </tr>\n",
       "    <tr>\n",
       "      <th>2</th>\n",
       "      <td>chembl</td>\n",
       "      <td>CHEMBL104279</td>\n",
       "      <td>Cn1cc(/C=C2\\C(=O)Nc3ccc(S(N)(=O)=O)cc32)c2ccccc21</td>\n",
       "      <td>8.12</td>\n",
       "      <td>1.0</td>\n",
       "      <td>1.0</td>\n",
       "      <td>1.0</td>\n",
       "      <td>1.0</td>\n",
       "      <td>NaN</td>\n",
       "      <td>353.403</td>\n",
       "    </tr>\n",
       "    <tr>\n",
       "      <th>3</th>\n",
       "      <td>chembl</td>\n",
       "      <td>CHEMBL104333</td>\n",
       "      <td>COc1ccc2c(c1)c(/C=C1\\C(=O)Nc3ccc(S(N)(=O)=O)cc...</td>\n",
       "      <td>6.96</td>\n",
       "      <td>1.0</td>\n",
       "      <td>1.0</td>\n",
       "      <td>1.0</td>\n",
       "      <td>0.0</td>\n",
       "      <td>NaN</td>\n",
       "      <td>383.429</td>\n",
       "    </tr>\n",
       "    <tr>\n",
       "      <th>4</th>\n",
       "      <td>chembl</td>\n",
       "      <td>CHEMBL104519</td>\n",
       "      <td>CNS(=O)(=O)c1ccc2c(c1)/C(=C/c1cn(C)c3ccc(OC)cc...</td>\n",
       "      <td>7.39</td>\n",
       "      <td>1.0</td>\n",
       "      <td>1.0</td>\n",
       "      <td>1.0</td>\n",
       "      <td>1.0</td>\n",
       "      <td>NaN</td>\n",
       "      <td>397.456</td>\n",
       "    </tr>\n",
       "    <tr>\n",
       "      <th>...</th>\n",
       "      <td>...</td>\n",
       "      <td>...</td>\n",
       "      <td>...</td>\n",
       "      <td>...</td>\n",
       "      <td>...</td>\n",
       "      <td>...</td>\n",
       "      <td>...</td>\n",
       "      <td>...</td>\n",
       "      <td>...</td>\n",
       "      <td>...</td>\n",
       "    </tr>\n",
       "    <tr>\n",
       "      <th>2919</th>\n",
       "      <td>pubchem</td>\n",
       "      <td>47714912</td>\n",
       "      <td>O=C(Cc1ccc(F)cc1)NNC(=O)Nc1cccc2cnccc12</td>\n",
       "      <td>NaN</td>\n",
       "      <td>0.0</td>\n",
       "      <td>NaN</td>\n",
       "      <td>NaN</td>\n",
       "      <td>NaN</td>\n",
       "      <td>SE</td>\n",
       "      <td>338.342</td>\n",
       "    </tr>\n",
       "    <tr>\n",
       "      <th>2920</th>\n",
       "      <td>pubchem</td>\n",
       "      <td>2037329</td>\n",
       "      <td>NC1=NC(c2ccc(F)cc2)C2=C(S1)C(=O)N(c1ccc(Cl)cc1...</td>\n",
       "      <td>NaN</td>\n",
       "      <td>0.0</td>\n",
       "      <td>0.0</td>\n",
       "      <td>0.0</td>\n",
       "      <td>NaN</td>\n",
       "      <td>SE</td>\n",
       "      <td>387.823</td>\n",
       "    </tr>\n",
       "    <tr>\n",
       "      <th>2921</th>\n",
       "      <td>pubchem</td>\n",
       "      <td>70341056</td>\n",
       "      <td>CCOC(=O)C(CCc1ccccc1)NC(C)C(=O)N1C(C(=O)OCCSCC...</td>\n",
       "      <td>NaN</td>\n",
       "      <td>0.0</td>\n",
       "      <td>0.0</td>\n",
       "      <td>0.0</td>\n",
       "      <td>NaN</td>\n",
       "      <td>SE</td>\n",
       "      <td>567.705</td>\n",
       "    </tr>\n",
       "    <tr>\n",
       "      <th>2922</th>\n",
       "      <td>pubchem</td>\n",
       "      <td>24757729</td>\n",
       "      <td>COc1c(C#Cc2ccc(N3CCN(S(=O)(=O)NC(C)C(=O)O)CC3)...</td>\n",
       "      <td>NaN</td>\n",
       "      <td>0.0</td>\n",
       "      <td>NaN</td>\n",
       "      <td>NaN</td>\n",
       "      <td>NaN</td>\n",
       "      <td>SE</td>\n",
       "      <td>533.650</td>\n",
       "    </tr>\n",
       "    <tr>\n",
       "      <th>2923</th>\n",
       "      <td>pubchem</td>\n",
       "      <td>6177647</td>\n",
       "      <td>COc1ccc2oc(-c3cccc(NC(=O)C=Cc4cc(Br)cc(Br)c4OC...</td>\n",
       "      <td>NaN</td>\n",
       "      <td>0.0</td>\n",
       "      <td>0.0</td>\n",
       "      <td>0.0</td>\n",
       "      <td>NaN</td>\n",
       "      <td>SE</td>\n",
       "      <td>558.226</td>\n",
       "    </tr>\n",
       "  </tbody>\n",
       "</table>\n",
       "<p>2906 rows × 10 columns</p>\n",
       "</div>"
      ],
      "text/plain": [
       "       source            id  \\\n",
       "0      chembl  CHEMBL101311   \n",
       "1      chembl  CHEMBL103667   \n",
       "2      chembl  CHEMBL104279   \n",
       "3      chembl  CHEMBL104333   \n",
       "4      chembl  CHEMBL104519   \n",
       "...       ...           ...   \n",
       "2919  pubchem      47714912   \n",
       "2920  pubchem       2037329   \n",
       "2921  pubchem      70341056   \n",
       "2922  pubchem      24757729   \n",
       "2923  pubchem       6177647   \n",
       "\n",
       "                                       canonical_smiles  pchembl_value  \\\n",
       "0      CN(C)CC(O)COc1ccc(Nc2nccc(Nc3cc(Cl)ccc3Cl)n2)cc1           5.50   \n",
       "1     Cc1ccc(-n2nc(C(C)(C)C)cc2NC(=O)Nc2ccc(OCCN3CCO...           6.10   \n",
       "2     Cn1cc(/C=C2\\C(=O)Nc3ccc(S(N)(=O)=O)cc32)c2ccccc21           8.12   \n",
       "3     COc1ccc2c(c1)c(/C=C1\\C(=O)Nc3ccc(S(N)(=O)=O)cc...           6.96   \n",
       "4     CNS(=O)(=O)c1ccc2c(c1)/C(=C/c1cn(C)c3ccc(OC)cc...           7.39   \n",
       "...                                                 ...            ...   \n",
       "2919            O=C(Cc1ccc(F)cc1)NNC(=O)Nc1cccc2cnccc12            NaN   \n",
       "2920  NC1=NC(c2ccc(F)cc2)C2=C(S1)C(=O)N(c1ccc(Cl)cc1...            NaN   \n",
       "2921  CCOC(=O)C(CCc1ccccc1)NC(C)C(=O)N1C(C(=O)OCCSCC...            NaN   \n",
       "2922  COc1c(C#Cc2ccc(N3CCN(S(=O)(=O)NC(C)C(=O)O)CC3)...            NaN   \n",
       "2923  COc1ccc2oc(-c3cccc(NC(=O)C=Cc4cc(Br)cc(Br)c4OC...            NaN   \n",
       "\n",
       "      100 uM  10 uM  1 uM  0.1 uM augmentation       mw  \n",
       "0        1.0    1.0   0.0     0.0          NaN  448.354  \n",
       "1        1.0    1.0   1.0     0.0          NaN  527.669  \n",
       "2        1.0    1.0   1.0     1.0          NaN  353.403  \n",
       "3        1.0    1.0   1.0     0.0          NaN  383.429  \n",
       "4        1.0    1.0   1.0     1.0          NaN  397.456  \n",
       "...      ...    ...   ...     ...          ...      ...  \n",
       "2919     0.0    NaN   NaN     NaN           SE  338.342  \n",
       "2920     0.0    0.0   0.0     NaN           SE  387.823  \n",
       "2921     0.0    0.0   0.0     NaN           SE  567.705  \n",
       "2922     0.0    NaN   NaN     NaN           SE  533.650  \n",
       "2923     0.0    0.0   0.0     NaN           SE  558.226  \n",
       "\n",
       "[2906 rows x 10 columns]"
      ]
     },
     "execution_count": 18,
     "metadata": {},
     "output_type": "execute_result"
    }
   ],
   "source": [
    "df"
   ]
  },
  {
   "cell_type": "code",
   "execution_count": 19,
   "id": "c09ff418",
   "metadata": {},
   "outputs": [],
   "source": [
    "X = df.canonical_smiles.values\n",
    "y = df[\"100 uM\"].values"
   ]
  },
  {
   "cell_type": "code",
   "execution_count": 20,
   "id": "7c6784c8",
   "metadata": {},
   "outputs": [
    {
     "data": {
      "application/vnd.jupyter.widget-view+json": {
       "model_id": "f3e57925d52f4539adf42aa0e1ee17d3",
       "version_major": 2,
       "version_minor": 0
      },
      "text/plain": [
       "Fragmenting:   0%|          | 0/727 [00:00<?, ?it/s]"
      ]
     },
     "metadata": {},
     "output_type": "display_data"
    }
   ],
   "source": [
    "pr = run_fragrank_frag(X[y == 1.0])"
   ]
  },
  {
   "cell_type": "code",
   "execution_count": 21,
   "id": "e18d5251",
   "metadata": {},
   "outputs": [],
   "source": [
    "top_fragments = sorted(pr, key=pr.get, reverse=True)\n",
    "top_fragments_mols = [Chem.MolFromSmarts(i) for i in top_fragments]"
   ]
  },
  {
   "cell_type": "markdown",
   "id": "b26de301",
   "metadata": {},
   "source": [
    "# Replace * with [H] to get all combinations of SMILES"
   ]
  },
  {
   "cell_type": "code",
   "execution_count": 22,
   "id": "1b13ba7d",
   "metadata": {},
   "outputs": [],
   "source": [
    "def filler(word, from_char=\"*\", to_char=\"[H]\"):\n",
    "    options = [(c,) if c != from_char else (from_char, to_char) for c in word]\n",
    "    return [''.join(o) for o in list(product(*options))]"
   ]
  },
  {
   "cell_type": "code",
   "execution_count": 23,
   "id": "af86dbcd",
   "metadata": {},
   "outputs": [],
   "source": [
    "frags = set()\n",
    "for i in top_fragments:\n",
    "    frags.update(filler(i))"
   ]
  },
  {
   "cell_type": "code",
   "execution_count": 24,
   "id": "06c0b44e",
   "metadata": {},
   "outputs": [],
   "source": [
    "frags_ = set()\n",
    "for smi in frags:\n",
    "    frags_.add(Chem.MolToSmiles(Chem.MolFromSmiles(smi)))"
   ]
  },
  {
   "cell_type": "code",
   "execution_count": 25,
   "id": "40271c8e",
   "metadata": {},
   "outputs": [],
   "source": [
    "frag_list_of_list_by_idx = []\n",
    "for i in range(max([i.count(\"*\") for i in frags_])):\n",
    "    frag_list_of_list_by_idx.append([])"
   ]
  },
  {
   "cell_type": "code",
   "execution_count": 26,
   "id": "2c0199e5",
   "metadata": {},
   "outputs": [],
   "source": [
    "for i in frags_:\n",
    "    frag_list_of_list_by_idx[i.count(\"*\")-1].append(i)"
   ]
  },
  {
   "cell_type": "code",
   "execution_count": 27,
   "id": "c2b51102",
   "metadata": {},
   "outputs": [],
   "source": [
    "def get_molecular_properties(smiles):\n",
    "    mol = Chem.MolFromSmiles(smiles)\n",
    "    mw = Descriptors.MolWt(mol)            # Molecular weight\n",
    "    logp = Descriptors.MolLogP(mol)        # LogP\n",
    "    tpsa = Descriptors.TPSA(mol)           # Topological polar surface area\n",
    "    hbd = Descriptors.NumHDonors(mol)      # Number of hydrogen bond donors\n",
    "    hba = Descriptors.NumHAcceptors(mol)   # Number of hydrogen bond acceptors\n",
    "    return [mw, logp, tpsa, hbd, hba]"
   ]
  },
  {
   "cell_type": "code",
   "execution_count": 28,
   "id": "9f589080",
   "metadata": {
    "scrolled": true
   },
   "outputs": [],
   "source": [
    "top_10_actives = df.sort_values('pchembl_value', ascending=False).canonical_smiles.iloc[:10].tolist()"
   ]
  },
  {
   "cell_type": "code",
   "execution_count": 29,
   "id": "2eac1b49",
   "metadata": {},
   "outputs": [],
   "source": [
    "top_10_props = []\n",
    "for i in top_10_actives:\n",
    "    top_10_props.append(get_molecular_properties(i))\n",
    "top_10_props = np.array(top_10_props)"
   ]
  },
  {
   "cell_type": "code",
   "execution_count": 30,
   "id": "7e03b207",
   "metadata": {},
   "outputs": [],
   "source": [
    "prop_ranges = np.array([top_10_props.min(axis=0), top_10_props.max(axis=0)])"
   ]
  },
  {
   "cell_type": "code",
   "execution_count": 31,
   "id": "57db5281",
   "metadata": {},
   "outputs": [],
   "source": [
    "def score_properties(properties, prop_range):\n",
    "    distances = np.maximum(np.maximum(prop_range[0] - properties, 0), np.maximum(properties - prop_range[1], 0))\n",
    "    score = np.exp(-np.sum(distances))\n",
    "    return score"
   ]
  },
  {
   "cell_type": "code",
   "execution_count": 32,
   "id": "4ec6f980",
   "metadata": {},
   "outputs": [],
   "source": [
    "def generate_initial_population(population_size):\n",
    "    population = []\n",
    "    while len(population) < population_size:\n",
    "        sample_smis = random.sample(frag_list_of_list_by_idx[0], 2)\n",
    "        smis = get_smis(CombineMols(sample_smis[0].replace(\"*\", \"[I]\"), sample_smis[1].replace(\"*\", \"[I]\"), \"I\"))\n",
    "        population.extend(smis)\n",
    "    return population"
   ]
  },
  {
   "cell_type": "code",
   "execution_count": 33,
   "id": "05584d66",
   "metadata": {},
   "outputs": [],
   "source": [
    "# Define the population size, number of generations, and crossover probability\n",
    "pop_size = 50\n",
    "num_generations = 20\n",
    "crossover_prob = 0.7"
   ]
  },
  {
   "cell_type": "code",
   "execution_count": 34,
   "id": "f64a24a2",
   "metadata": {},
   "outputs": [],
   "source": [
    "def create_mol_from_frag(frag1, frag2):\n",
    "    return random.choice(get_smis(CombineMols(sample_smis[0].replace(\"*\", \"[I]\"), sample_smis[1].replace(\"*\", \"[I]\"), \"I\")))"
   ]
  },
  {
   "cell_type": "code",
   "execution_count": 35,
   "id": "c91243d1",
   "metadata": {},
   "outputs": [],
   "source": [
    "def fitness_function(ga_instance, smiles, solution_idx):\n",
    "    props = get_molecular_properties(smiles)\n",
    "    if props is None:\n",
    "        return -1000\n",
    "    score = score_properties(props, prop_ranges)\n",
    "    return score"
   ]
  },
  {
   "cell_type": "code",
   "execution_count": 36,
   "id": "d16ec8b1",
   "metadata": {},
   "outputs": [],
   "source": [
    "def _get_sensible_frag_from_smi(smiles):\n",
    "    __frag = fragmenter.frag_rec(smiles, max_depth=0)\n",
    "    __frag = sorted(__frag, key=len)[len(__frag) // 2:]\n",
    "    return random.choice(__frag)"
   ]
  },
  {
   "cell_type": "code",
   "execution_count": 37,
   "id": "24ba1505",
   "metadata": {},
   "outputs": [],
   "source": [
    "def _mutate(smiles):\n",
    "    frag = random.choice(frag_list_of_list_by_idx[0])\n",
    "    frag_from_smiles = _get_sensible_frag_from_smi(smiles)\n",
    "    return random.choice(get_smis(CombineMols(frag.replace(\"*\", \"[I]\"), frag_from_smiles.replace(\"*\", \"[I]\"), \"I\")))"
   ]
  },
  {
   "cell_type": "code",
   "execution_count": 38,
   "id": "ebce792b",
   "metadata": {},
   "outputs": [],
   "source": [
    "def mutation(smiles, mutation_rate):\n",
    "    if random.random() < mutation_rate:\n",
    "        return _mutate(smiles)\n",
    "    return smiles"
   ]
  },
  {
   "cell_type": "code",
   "execution_count": 39,
   "id": "420dcdd3",
   "metadata": {},
   "outputs": [],
   "source": [
    "def crossover(parent1, parent2):\n",
    "    child1 = random.choice(get_smis(CombineMols(_get_sensible_frag_from_smi(parent1).replace(\"*\", \"[I]\"), _get_sensible_frag_from_smi(parent2).replace(\"*\", \"[I]\"), \"I\")))\n",
    "    child2 = random.choice(get_smis(CombineMols(_get_sensible_frag_from_smi(parent1).replace(\"*\", \"[I]\"), _get_sensible_frag_from_smi(parent2).replace(\"*\", \"[I]\"), \"I\")))\n",
    "    return child1, child2"
   ]
  },
  {
   "cell_type": "code",
   "execution_count": 40,
   "id": "85e0bf4c",
   "metadata": {},
   "outputs": [],
   "source": [
    "# Define the function that evaluates the molecular properties of a molecule\n",
    "def evaluate_mol_props(smiles):\n",
    "    props = get_molecular_properties(smiles)\n",
    "    if props is None:\n",
    "        return -1\n",
    "    score = score_properties(props, prop_ranges)\n",
    "    return score"
   ]
  },
  {
   "cell_type": "code",
   "execution_count": 41,
   "id": "60f6511d",
   "metadata": {},
   "outputs": [],
   "source": [
    "# Define the function that selects the best individuals from the population\n",
    "def selection(population, fitness_func, num_parents):\n",
    "    fitness_values = [fitness_func(individual) for individual in population]\n",
    "    fitness_sum = sum(fitness_values)\n",
    "    fitness_prob = [value/fitness_sum for value in fitness_values]\n",
    "    parents = random.choices(population, weights=fitness_prob, k=num_parents)\n",
    "    return parents"
   ]
  },
  {
   "cell_type": "code",
   "execution_count": 42,
   "id": "00b3f0e9",
   "metadata": {},
   "outputs": [],
   "source": [
    "# Define the population size, number of generations, and crossover probability\n",
    "pop_size = 100\n",
    "num_generations = 50\n",
    "crossover_prob = 0.7"
   ]
  },
  {
   "cell_type": "code",
   "execution_count": 43,
   "id": "14efe2a8",
   "metadata": {},
   "outputs": [],
   "source": [
    "# Define the initial population with random molecules\n",
    "population = generate_initial_population(pop_size)"
   ]
  },
  {
   "cell_type": "code",
   "execution_count": 44,
   "id": "b03bf58a",
   "metadata": {},
   "outputs": [],
   "source": [
    "from IPython.display import display, Image"
   ]
  },
  {
   "cell_type": "code",
   "execution_count": 45,
   "id": "2434dd1b",
   "metadata": {
    "scrolled": true
   },
   "outputs": [
    {
     "data": {
      "application/vnd.jupyter.widget-view+json": {
       "model_id": "1fc865f5776f41a8bccb07edae7f6e60",
       "version_major": 2,
       "version_minor": 0
      },
      "text/plain": [
       "  0%|          | 0/10 [00:00<?, ?it/s]"
      ]
     },
     "metadata": {},
     "output_type": "display_data"
    },
    {
     "name": "stdout",
     "output_type": "stream",
     "text": [
      "Generation 1:\n",
      "Best solution: C#Cc1cnc2c(c1)ncn2C(OCC(=O)Nc1cccc(CF)c1)c1ccc(O)cc1 (fitness=1.0)\n",
      "Generation 2:\n",
      "Best solution: Nc1c(Cl)ccc(OOc2ccc(-c3cn[nH]c3)nc2C=O)c1Cl (fitness=1.0)\n",
      "Generation 3:\n",
      "Best solution: Cc1ccc(-n2nccc2NC(=O)CSc2ccc(OCc3ccc(O)nc3)cc2)cc1 (fitness=1.0)\n",
      "Generation 4:\n",
      "Best solution: C#Cc1cnc2c(c1)ncn2C(c1ccc(O)cc1)C1:ccc(-c2cc[nH]c(=O)c2)s:1 (fitness=1.0)\n",
      "Generation 5:\n",
      "Best solution: Nc1c(Cl)ccc(OOc2ccc(-c3cn[nH]c3)nc2C=O)c1Cl (fitness=1.0)\n",
      "Generation 6:\n",
      "Best solution: Nc1c(Cl)ccc(OOc2ccc(-c3cn[nH]c3)nc2C=O)c1Cl (fitness=1.0)\n",
      "Generation 7:\n",
      "Best solution: C#Cc1cnc2c(c1)ncn2C(OCC(=O)C(C)n1cnc2cc(-c3cccnc3)ccc21)c1ccc(O)cc1 (fitness=1.0)\n",
      "Generation 8:\n",
      "Best solution: C#Cc1cnc2c(c1)ncn2C(OCC(=O)Nc1cccc(CF)c1)c1ccc(O)cc1 (fitness=1.0)\n",
      "Generation 9:\n",
      "Best solution: C#Cc1cnc2c(c1)ncn2C(OCC(=O)Nc1cccc(CF)c1)c1ccc(O)cc1 (fitness=1.0)\n",
      "Generation 10:\n",
      "Best solution: Nc1c(Cl)ccc(OOc2ccc(-c3cn[nH]c3)nc2C=O)c1Cl (fitness=1.0)\n"
     ]
    }
   ],
   "source": [
    "top5_of_each_gen = []\n",
    "\n",
    "# Run the genetic algorithm for a specified number of generations\n",
    "for gen in trange(num_generations):\n",
    "    print(f'Generation {gen+1}:')\n",
    "    new_population = []\n",
    "    num_parents = int(pop_size * 0.4)\n",
    "    parents = selection(population, evaluate_mol_props, num_parents)\n",
    "    for i in range(0, pop_size - num_parents, 2):\n",
    "        parent1 = random.choice(parents)\n",
    "        parent2 = random.choice(parents)\n",
    "        child1, child2 = crossover(parent1, parent2)\n",
    "        child1 = mutation(child1, 0.1)\n",
    "        child2 = mutation(child2, 0.1)\n",
    "        new_population.append(child1)\n",
    "        new_population.append(child2)\n",
    "    population = parents + new_population\n",
    "    population = sorted(population, key=evaluate_mol_props, reverse=True)[:pop_size]\n",
    "    best_solution = population[0]\n",
    "    top5_of_each_gen.append(population[:5])\n",
    "    best_fitness = evaluate_mol_props(best_solution)\n",
    "    print(f'Best solution: {best_solution} (fitness={best_fitness})')"
   ]
  },
  {
   "cell_type": "code",
   "execution_count": 47,
   "id": "a950c73b",
   "metadata": {
    "scrolled": true
   },
   "outputs": [
    {
     "data": {
      "image/png": "[encoded data removed]",
      "text/plain": [
       "<IPython.core.display.Image object>"
      ]
     },
     "execution_count": 47,
     "metadata": {},
     "output_type": "execute_result"
    }
   ],
   "source": [
    "grid(get_mols(top_10_actives))"
   ]
  },
  {
   "cell_type": "code",
   "execution_count": 51,
   "id": "3bc8abb3",
   "metadata": {},
   "outputs": [],
   "source": [
    "topmols = list(chain.from_iterable(top5_of_each_gen))"
   ]
  },
  {
   "cell_type": "code",
   "execution_count": 54,
   "id": "52e52e6f",
   "metadata": {},
   "outputs": [],
   "source": [
    "with open(\"topmols_trkb.smi\", \"w\") as f:\n",
    "    for i in topmols:\n",
    "        f.write(f\"{i}\\n\")"
   ]
  }
 ],
 "metadata": {
  "kernelspec": {
   "display_name": "Python 3 (ipykernel)",
   "language": "python",
   "name": "python3"
  },
  "language_info": {
   "codemirror_mode": {
    "name": "ipython",
    "version": 3
   },
   "file_extension": ".py",
   "mimetype": "text/x-python",
   "name": "python",
   "nbconvert_exporter": "python",
   "pygments_lexer": "ipython3",
   "version": "3.9.15"
  }
 },
 "nbformat": 4,
 "nbformat_minor": 5
}
